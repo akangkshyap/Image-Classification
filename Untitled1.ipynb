{
  "nbformat": 4,
  "nbformat_minor": 0,
  "metadata": {
    "colab": {
      "name": "Untitled1.ipynb",
      "provenance": [],
      "collapsed_sections": [],
      "include_colab_link": true
    },
    "kernelspec": {
      "name": "python3",
      "display_name": "Python 3"
    }
  },
  "cells": [
    {
      "cell_type": "markdown",
      "metadata": {
        "id": "view-in-github",
        "colab_type": "text"
      },
      "source": [
        "<a href=\"https://colab.research.google.com/github/akangkshyap/Image-Classification/blob/master/Untitled1.ipynb\" target=\"_parent\"><img src=\"https://colab.research.google.com/assets/colab-badge.svg\" alt=\"Open In Colab\"/></a>"
      ]
    },
    {
      "cell_type": "code",
      "metadata": {
        "id": "2a2O-FtR2rAe",
        "colab_type": "code",
        "outputId": "6d02e565-2c5d-4372-85ed-22029de1ed72",
        "colab": {
          "base_uri": "https://localhost:8080/",
          "height": 73
        }
      },
      "source": [
        "from google.colab import drive\n",
        "drive.mount('/content/drive')\n",
        "# example of using a pre-trained model as a classifier \n",
        "from keras.preprocessing.image import load_img \n",
        "from keras.preprocessing.image import img_to_array \n",
        "from keras.applications.vgg16 import preprocess_input \n",
        "from keras.applications.vgg16 import decode_predictions \n",
        "from keras.applications.vgg16 import VGG16 \n",
        "# load an image from file \n",
        "image = load_img('/content/drive/My Drive/dog2.jpg', target_size=(224, 224)) \n",
        "# convert the image pixels to a numpy array \n",
        "image = img_to_array(image) \n",
        "# reshape data for the model \n",
        "image = image.reshape((1, image.shape[0], image.shape[1], image.shape[2]))\n",
        " # prepare the image for the VGG model \n",
        "image = preprocess_input(image) \n",
        " # load the model \n",
        "model = VGG16() \n",
        " # predict the probability across all output classes \n",
        "yhat = model.predict(image) \n",
        " # convert the probabilities to class labels \n",
        "label = decode_predictions(yhat) \n",
        " # retrieve the most likely result, e.g. highest probability \n",
        "label = label[0][0] \n",
        " # print the classification \n",
        "print('%s (%.2f%%)' % (label[1], label[2]*100))"
      ],
      "execution_count": 0,
      "outputs": [
        {
          "output_type": "stream",
          "text": [
            "Drive already mounted at /content/drive; to attempt to forcibly remount, call drive.mount(\"/content/drive\", force_remount=True).\n",
            "Doberman (33.59%)\n"
          ],
          "name": "stdout"
        }
      ]
    },
    {
      "cell_type": "code",
      "metadata": {
        "id": "-BNTu2f1_hD0",
        "colab_type": "code",
        "colab": {}
      },
      "source": [
        ""
      ],
      "execution_count": 0,
      "outputs": []
    },
    {
      "cell_type": "code",
      "metadata": {
        "id": "bjOtAMJHBQmu",
        "colab_type": "code",
        "outputId": "a68b107e-92b3-4183-c554-67642512a7b4",
        "colab": {
          "base_uri": "https://localhost:8080/",
          "height": 73
        }
      },
      "source": [
        "from google.colab import drive\n",
        "drive.mount('/content/drive')\n",
        "# example of using a pre-trained model as a classifier \n",
        "from keras.preprocessing.image import load_img \n",
        "from keras.preprocessing.image import img_to_array \n",
        "from keras.applications.vgg16 import preprocess_input \n",
        "from keras.applications.vgg16 import decode_predictions \n",
        "from keras.applications.vgg16 import VGG16 \n",
        "# load an image from file \n",
        "image = load_img('/content/drive/My Drive/dog.jpg', target_size=(224, 224)) \n",
        "# convert the image pixels to a numpy array \n",
        "image = img_to_array(image) \n",
        "# reshape data for the model \n",
        "image = image.reshape((1, image.shape[0], image.shape[1], image.shape[2]))\n",
        " # prepare the image for the VGG model \n",
        "image = preprocess_input(image) \n",
        " # load the model \n",
        "model = VGG16() \n",
        " # predict the probability across all output classes \n",
        "yhat = model.predict(image) \n",
        " # convert the probabilities to class labels \n",
        "label = decode_predictions(yhat) \n",
        " # retrieve the most likely result, e.g. highest probability \n",
        "label = label[0][0] \n",
        " # print the classification \n",
        "print('%s (%.2f%%)' % (label[1], label[2]*100))"
      ],
      "execution_count": 0,
      "outputs": [
        {
          "output_type": "stream",
          "text": [
            "Drive already mounted at /content/drive; to attempt to forcibly remount, call drive.mount(\"/content/drive\", force_remount=True).\n",
            "Labrador_retriever (82.62%)\n"
          ],
          "name": "stdout"
        }
      ]
    },
    {
      "cell_type": "code",
      "metadata": {
        "id": "DwJvMgD_BX3L",
        "colab_type": "code",
        "outputId": "cc033faf-c3be-4c31-a0cd-74db61b1b35b",
        "colab": {
          "base_uri": "https://localhost:8080/",
          "height": 73
        }
      },
      "source": [
        "from google.colab import drive\n",
        "drive.mount('/content/drive')\n",
        "# example of using a pre-trained model as a classifier \n",
        "from keras.preprocessing.image import load_img \n",
        "from keras.preprocessing.image import img_to_array \n",
        "from keras.applications.vgg16 import preprocess_input \n",
        "from keras.applications.vgg16 import decode_predictions \n",
        "from keras.applications.vgg16 import VGG16 \n",
        "# load an image from file \n",
        "image = load_img('/content/drive/My Drive/dog1.jpg', target_size=(224, 224)) \n",
        "# convert the image pixels to a numpy array \n",
        "image = img_to_array(image) \n",
        "# reshape data for the model \n",
        "image = image.reshape((1, image.shape[0], image.shape[1], image.shape[2]))\n",
        " # prepare the image for the VGG model \n",
        "image = preprocess_input(image) \n",
        " # load the model \n",
        "model = VGG16() \n",
        " # predict the probability across all output classes \n",
        "yhat = model.predict(image) \n",
        " # convert the probabilities to class labels \n",
        "label = decode_predictions(yhat) \n",
        " # retrieve the most likely result, e.g. highest probability \n",
        "label = label[0][0] \n",
        " # print the classification \n",
        "print('%s (%.2f%%)' % (label[1], label[2]*100))"
      ],
      "execution_count": 0,
      "outputs": [
        {
          "output_type": "stream",
          "text": [
            "Drive already mounted at /content/drive; to attempt to forcibly remount, call drive.mount(\"/content/drive\", force_remount=True).\n",
            "pug (81.98%)\n"
          ],
          "name": "stdout"
        }
      ]
    },
    {
      "cell_type": "code",
      "metadata": {
        "id": "0543l70CBor7",
        "colab_type": "code",
        "colab": {}
      },
      "source": [
        ""
      ],
      "execution_count": 0,
      "outputs": []
    }
  ]
}